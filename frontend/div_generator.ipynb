{
 "cells": [
  {
   "cell_type": "code",
   "execution_count": null,
   "metadata": {},
   "outputs": [],
   "source": [
    "div = f\"\"\"<div class=\"outer-square\" class=\"{out_class}\">\n",
    "        {inner_body}\n",
    "        </div>\n",
    "      \"\"\""
   ]
  },
  {
   "cell_type": "code",
   "execution_count": 14,
   "metadata": {},
   "outputs": [],
   "source": [
    "html = \"\"\n",
    "for outer_id in range(1,10):\n",
    "    inner_body = \"\"\n",
    "    for inner_id in range(1,10):\n",
    "        inner_div = f\"\"\"<div class=\"inner-grid\" class=\"{str(outer_id)+\" \"+str(inner_id)}\">\n",
    "            <div class=\"inner-square\" class=\"{str(outer_id)+\" \"+str(inner_id) + \" text\"}\"></div>\n",
    "            </div>\"\"\"\n",
    "        inner_div = f\"\"\"<div class=\"inner-grid\" class=\"{str(outer_id)+\" \"+str(inner_id)}\">\n",
    "                    <div class=\"inner-square\" class=\"{str(outer_id)+\" \"+str(inner_id) + \" text\"}>\n",
    "                    <div class=\"center-text\" class=\"{str(outer_id)+\" \"+str(inner_id) + \"center_text\"}>\n",
    "                    </div>\n",
    "                    </div>\n",
    "                </div>\"\"\"\n",
    "        inner_body += inner_div\n",
    "    \n",
    "    html+= f\"\"\"<div class=\"outer-grid\">\n",
    "        <div class=\"outer-square\" class=\"{outer_id}\">\n",
    "        {inner_body}\n",
    "        </div>\n",
    "      </div>\n",
    "\n",
    "              \"\"\""
   ]
  },
  {
   "cell_type": "code",
   "execution_count": null,
   "metadata": {},
   "outputs": [],
   "source": []
  }
 ],
 "metadata": {
  "kernelspec": {
   "display_name": "Python 3",
   "language": "python",
   "name": "python3"
  },
  "language_info": {
   "codemirror_mode": {
    "name": "ipython",
    "version": 3
   },
   "file_extension": ".py",
   "mimetype": "text/x-python",
   "name": "python",
   "nbconvert_exporter": "python",
   "pygments_lexer": "ipython3",
   "version": "3.11.3"
  },
  "orig_nbformat": 4,
  "vscode": {
   "interpreter": {
    "hash": "767d51c1340bd893661ea55ea3124f6de3c7a262a8b4abca0554b478b1e2ff90"
   }
  }
 },
 "nbformat": 4,
 "nbformat_minor": 2
}
